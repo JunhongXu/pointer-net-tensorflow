{
 "cells": [
  {
   "cell_type": "code",
   "execution_count": 1,
   "metadata": {
    "collapsed": false
   },
   "outputs": [],
   "source": [
    "import tensorflow as tf\n",
    "import numpy as np\n",
    "from ptr_decoder import pointer_decoder\n",
    "from pointer_network import PointerNetwork\n",
    "from data_generator import *\n",
    "%load_ext autoreload\n",
    "%autoreload 2"
   ]
  },
  {
   "cell_type": "code",
   "execution_count": 2,
   "metadata": {
    "collapsed": true
   },
   "outputs": [],
   "source": [
    "input_dim = 1\n",
    "batch_size = 1\n",
    "seq_len = 8\n",
    "hidden_dim = 100\n",
    "lr = 0.01\n",
    "sess = tf.Session(config=tf.ConfigProto(log_device_placement=True))"
   ]
  },
  {
   "cell_type": "code",
   "execution_count": 3,
   "metadata": {
    "collapsed": false
   },
   "outputs": [
    {
     "name": "stdout",
     "output_type": "stream",
     "text": [
      "Building graph\n",
      "Building optimizer\n",
      "Finished\n"
     ]
    }
   ],
   "source": [
    "pointer_net = PointerNetwork(hidden_dim, lr, 5, seq_len, batch_size=batch_size, input_dim=1)"
   ]
  },
  {
   "cell_type": "code",
   "execution_count": 4,
   "metadata": {
    "collapsed": true
   },
   "outputs": [],
   "source": [
    "opt = pointer_net.opt\n",
    "loss = pointer_net.losses\n",
    "encoder_inps = pointer_net.encoder_inps\n",
    "decoder_inps = pointer_net.decoder_inps\n",
    "targets = pointer_net.targets\n",
    "prediction = pointer_net.prediction\n",
    "validation = pointer_net.validation\n",
    "sess.run(tf.initialize_all_variables())"
   ]
  },
  {
   "cell_type": "code",
   "execution_count": 12,
   "metadata": {
    "collapsed": false,
    "scrolled": false
   },
   "outputs": [
    {
     "name": "stdout",
     "output_type": "stream",
     "text": [
      "[False]\n",
      "[[4 1 0 3 6 2 5 7]]\n",
      "[[4 1 0 3 6 2 5 5]]\n",
      "0.875\n",
      "Loss 2.41682\n",
      "[False]\n",
      "[[1 2 0 5 4 7 3 6]]\n",
      "[[1 2 0 5 4 4 3 6]]\n",
      "0.875\n",
      "Loss 2.88573\n",
      "[False]\n",
      "[[5 0 1 2 6 4 3 7]]\n",
      "[[0 0 1 2 6 4 3 7]]\n",
      "0.875\n",
      "Loss 3.24919\n",
      "[ True]\n",
      "[[6 5 2 4 7 3 0 1]]\n",
      "[[6 5 2 4 7 3 0 1]]\n",
      "1.0\n",
      "Loss 0.798699\n",
      "[False]\n",
      "[[2 5 1 0 7 4 6 3]]\n",
      "[[2 5 1 7 0 4 6 3]]\n",
      "0.75\n",
      "Loss 4.59587\n",
      "[ True]\n",
      "[[7 3 6 4 0 2 5 1]]\n",
      "[[7 3 6 4 0 2 5 1]]\n",
      "1.0\n",
      "Loss 0.979079\n",
      "[False]\n",
      "[[3 1 6 7 4 5 0 2]]\n",
      "[[3 1 6 7 7 5 0 2]]\n",
      "0.875\n",
      "Loss 3.62393\n",
      "[ True]\n",
      "[[1 5 7 0 3 2 6 4]]\n",
      "[[1 5 7 0 3 2 6 4]]\n",
      "1.0\n",
      "Loss 1.15635\n",
      "[False]\n",
      "[[5 3 7 2 4 1 0 6]]\n",
      "[[5 7 7 2 4 1 0 6]]\n",
      "0.875\n",
      "Loss 1.73718\n",
      "[False]\n",
      "[[7 6 1 3 4 5 2 0]]\n",
      "[[7 6 1 3 4 2 5 0]]\n",
      "0.75\n",
      "Loss 3.16212\n"
     ]
    }
   ],
   "source": [
    "for i in range(0, 1000):\n",
    "    _encoder_inps, _targets, _decoder_inps = sorting_generator(seq_len, batch_size)\n",
    "    _loss, _, _v = sess.run([loss, opt, prediction], feed_dict={encoder_inps:_encoder_inps, decoder_inps:_decoder_inps, \n",
    "                                               targets:_targets})\n",
    "    if i%100 == 0:    \n",
    "        _v = np.argmax(_v, axis=2).reshape(1, 8)\n",
    "        correct = np.where(_targets == _v)[0].shape[0]/float(batch_size*seq_len)\n",
    "        print np.all(_targets == _v, axis=1)\n",
    "        print _targets\n",
    "        print _v\n",
    "        #print \"Encoder\", _encoder_inps.reshape(8)\n",
    "        print correct\n",
    "        \n",
    "        print \"Loss\", _loss"
   ]
  },
  {
   "cell_type": "code",
   "execution_count": 12,
   "metadata": {
    "collapsed": true
   },
   "outputs": [
    {
     "data": {
      "text/plain": [
       "array([[7, 0, 6, 4, 5, 3, 2, 1],\n",
       "       [0, 4, 5, 2, 6, 7, 3, 1],\n",
       "       [0, 6, 4, 2, 7, 3, 1, 5],\n",
       "       [5, 1, 6, 3, 7, 4, 2, 0],\n",
       "       [3, 1, 2, 0, 6, 4, 5, 7],\n",
       "       [7, 4, 3, 5, 6, 0, 2, 1],\n",
       "       [4, 3, 2, 1, 5, 6, 0, 7],\n",
       "       [2, 5, 0, 6, 3, 7, 1, 4],\n",
       "       [0, 5, 7, 1, 4, 3, 6, 2],\n",
       "       [4, 3, 7, 2, 0, 1, 5, 6],\n",
       "       [4, 2, 3, 5, 6, 0, 7, 1],\n",
       "       [1, 6, 7, 5, 2, 4, 3, 0],\n",
       "       [3, 2, 7, 0, 4, 1, 6, 5],\n",
       "       [6, 2, 5, 1, 7, 3, 0, 4],\n",
       "       [2, 6, 3, 7, 1, 0, 4, 5],\n",
       "       [4, 5, 7, 2, 6, 1, 0, 3],\n",
       "       [3, 7, 0, 1, 4, 6, 5, 2],\n",
       "       [4, 5, 0, 7, 1, 6, 3, 2],\n",
       "       [7, 5, 2, 4, 0, 6, 3, 1],\n",
       "       [6, 7, 1, 2, 3, 4, 5, 0],\n",
       "       [7, 4, 0, 5, 3, 6, 2, 1],\n",
       "       [6, 1, 5, 7, 3, 4, 0, 2],\n",
       "       [0, 7, 6, 1, 4, 2, 5, 3],\n",
       "       [3, 5, 7, 2, 1, 0, 6, 4],\n",
       "       [2, 3, 6, 0, 4, 7, 5, 1],\n",
       "       [5, 4, 3, 7, 2, 1, 0, 6],\n",
       "       [1, 7, 0, 4, 3, 2, 6, 5],\n",
       "       [1, 0, 5, 4, 6, 3, 2, 7],\n",
       "       [4, 6, 7, 3, 1, 5, 2, 0],\n",
       "       [4, 7, 6, 1, 5, 2, 0, 3],\n",
       "       [5, 6, 3, 7, 4, 1, 2, 0],\n",
       "       [5, 7, 4, 6, 2, 3, 1, 0]])"
      ]
     },
     "execution_count": 12,
     "metadata": {},
     "output_type": "execute_result"
    }
   ],
   "source": [
    "_targets"
   ]
  },
  {
   "cell_type": "code",
   "execution_count": 12,
   "metadata": {
    "collapsed": false
   },
   "outputs": [
    {
     "data": {
      "text/plain": [
       "(array([0, 0, 0]), array([0, 3, 4]))"
      ]
     },
     "execution_count": 12,
     "metadata": {},
     "output_type": "execute_result"
    }
   ],
   "source": [
    "np.where(_targets == np.argmax(_v, axis=2).reshape(1, 5))"
   ]
  },
  {
   "cell_type": "code",
   "execution_count": null,
   "metadata": {
    "collapsed": true
   },
   "outputs": [],
   "source": []
  }
 ],
 "metadata": {
  "anaconda-cloud": {},
  "kernelspec": {
   "display_name": "Python 2",
   "language": "python",
   "name": "python2"
  },
  "language_info": {
   "codemirror_mode": {
    "name": "ipython",
    "version": 2
   },
   "file_extension": ".py",
   "mimetype": "text/x-python",
   "name": "python",
   "nbconvert_exporter": "python",
   "pygments_lexer": "ipython2",
   "version": "2.7.12"
  }
 },
 "nbformat": 4,
 "nbformat_minor": 0
}
