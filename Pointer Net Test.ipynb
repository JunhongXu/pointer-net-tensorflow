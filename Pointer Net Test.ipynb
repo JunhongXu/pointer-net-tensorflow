{
 "cells": [
  {
   "cell_type": "code",
   "execution_count": 1,
   "metadata": {
    "collapsed": false
   },
   "outputs": [],
   "source": [
    "import tensorflow as tf\n",
    "import numpy as np\n",
    "from ptr_decoder import pointer_decoder\n",
    "from pointer_network import PointerNetwork\n",
    "from data_generator import *\n",
    "%load_ext autoreload\n",
    "%autoreload 2"
   ]
  },
  {
   "cell_type": "code",
   "execution_count": 2,
   "metadata": {
    "collapsed": false
   },
   "outputs": [],
   "source": [
    "input_dim = 1\n",
    "batch_size = 32\n",
    "seq_len = 8\n",
    "hidden_dim = 128\n",
    "lr = 0.01\n",
    "sess = tf.Session(config=tf.ConfigProto(log_device_placement=True))"
   ]
  },
  {
   "cell_type": "code",
   "execution_count": 3,
   "metadata": {
    "collapsed": false
   },
   "outputs": [],
   "source": [
    "pointer_net = PointerNetwork(hidden_dim, lr, 10, sort, \n",
    "                             max_seq_len=seq_len, batch_size=batch_size, input_dim=1)"
   ]
  },
  {
   "cell_type": "code",
   "execution_count": null,
   "metadata": {
    "collapsed": true
   },
   "outputs": [
    {
     "name": "stdout",
     "output_type": "stream",
     "text": [
      "------------------Testing-------------------\n",
      "Epoch 0:\n",
      "Sample:\n",
      "ground truth: [ 0.04019927  0.06430691  0.22457752  0.56303015  0.64774744  0.70851185\n",
      "  0.79847057  0.85636531]\n",
      "prediction [ 0.22457752  0.22457752  0.22457752  0.22457752  0.22457752  0.22457752\n",
      "  0.22457752  0.22457752]\n",
      "Test loss is 18.1174\n",
      "Test accuracy is 0.0\n",
      "--------------------Done--------------------\n",
      "Epoch 0: training loss is 17.9078\n",
      "Epoch 50: training loss is 15.1607\n",
      "------------------Testing-------------------\n",
      "Epoch 100:\n",
      "Sample:\n",
      "ground truth: [ 0.5252165   0.59039069  0.73010986  0.7428869   0.7490249   0.78165124\n",
      "  0.82920861  0.97163153]\n",
      "prediction [ 0.5252165   0.5252165   0.5252165   0.7490249   0.97163153  0.97163153\n",
      "  0.97163153  0.97163153]\n",
      "Test loss is 11.4928\n",
      "Test accuracy is 0.0\n",
      "--------------------Done--------------------\n",
      "Epoch 100: training loss is 11.4639\n",
      "Epoch 150: training loss is 8.80549\n",
      "------------------Testing-------------------\n",
      "Epoch 200:\n",
      "Sample:\n",
      "ground truth: [ 0.12432993  0.21550984  0.38034912  0.47974136  0.51659704  0.66778498\n",
      "  0.71930784  0.94511883]\n",
      "prediction [ 0.12432993  0.21550984  0.38034912  0.47974136  0.51659704  0.71930784\n",
      "  0.94511883  0.94511883]\n",
      "Test loss is 6.60542\n",
      "Test accuracy is 0.09375\n",
      "--------------------Done--------------------\n",
      "Epoch 200: training loss is 7.54085\n",
      "Epoch 250: training loss is 6.29233\n",
      "------------------Testing-------------------\n",
      "Epoch 300:\n",
      "Sample:\n",
      "ground truth: [ 0.02985246  0.03215928  0.11181984  0.19064828  0.61259452  0.64942243\n",
      "  0.85768596  0.9794991 ]\n",
      "prediction [ 0.03215928  0.11181984  0.19064828  0.19064828  0.61259452  0.64942243\n",
      "  0.85768596  0.9794991 ]\n",
      "Test loss is 6.26479\n",
      "Test accuracy is 0.03125\n",
      "--------------------Done--------------------\n",
      "Epoch 300: training loss is 5.75189\n",
      "Epoch 350: training loss is 5.02776\n",
      "------------------Testing-------------------\n",
      "Epoch 400:\n",
      "Sample:\n",
      "ground truth: [ 0.23931182  0.31387605  0.39496683  0.53221106  0.59993233  0.73029956\n",
      "  0.86307996  0.92563292]\n",
      "prediction [ 0.23931182  0.31387605  0.39496683  0.53221106  0.59993233  0.73029956\n",
      "  0.86307996  0.92563292]\n",
      "Test loss is 4.83188\n",
      "Test accuracy is 0.34375\n",
      "--------------------Done--------------------\n",
      "Epoch 400: training loss is 5.34074\n",
      "Epoch 450: training loss is 4.16379\n",
      "------------------Testing-------------------\n",
      "Epoch 500:\n",
      "Sample:\n",
      "ground truth: [ 0.04618732  0.18462387  0.30175996  0.64852128  0.72186851  0.75608318\n",
      "  0.76628761  0.96153221]\n",
      "prediction [ 0.04618732  0.18462387  0.30175996  0.64852128  0.72186851  0.76628761\n",
      "  0.76628761  0.96153221]\n",
      "Test loss is 4.4041\n",
      "Test accuracy is 0.1875\n",
      "--------------------Done--------------------\n",
      "Epoch 500: training loss is 4.28906\n",
      "Epoch 550: training loss is 3.44791\n",
      "------------------Testing-------------------\n",
      "Epoch 600:\n",
      "Sample:\n",
      "ground truth: [ 0.00307024  0.00752883  0.34062228  0.42713022  0.46262464  0.48350235\n",
      "  0.52642741  0.61448306]\n",
      "prediction [ 0.00752883  0.00752883  0.34062228  0.34062228  0.42713022  0.48350235\n",
      "  0.52642741  0.61448306]\n",
      "Test loss is 4.21424\n",
      "Test accuracy is 0.21875\n",
      "--------------------Done--------------------\n",
      "Epoch 600: training loss is 4.1747\n",
      "Epoch 650: training loss is 3.63765\n",
      "------------------Testing-------------------\n",
      "Epoch 700:\n",
      "Sample:\n",
      "ground truth: [ 0.13067939  0.40641067  0.48769601  0.66477492  0.71642901  0.9004781\n",
      "  0.91836239  0.94968786]\n",
      "prediction [ 0.13067939  0.40641067  0.48769601  0.66477492  0.71642901  0.9004781\n",
      "  0.91836239  0.94968786]\n",
      "Test loss is 3.19204\n",
      "Test accuracy is 0.25\n",
      "--------------------Done--------------------\n",
      "Epoch 700: training loss is 2.6396\n",
      "Epoch 750: training loss is 3.16406\n",
      "------------------Testing-------------------\n",
      "Epoch 800:\n",
      "Sample:\n",
      "ground truth: [ 0.10322456  0.24316021  0.5361242   0.58432813  0.63814476  0.66488028\n",
      "  0.85134622  0.98785989]\n",
      "prediction [ 0.10322456  0.24316021  0.5361242   0.58432813  0.66488028  0.66488028\n",
      "  0.85134622  0.98785989]\n",
      "Test loss is 3.45686\n",
      "Test accuracy is 0.15625\n",
      "--------------------Done--------------------\n",
      "Epoch 800: training loss is 2.31591\n",
      "Epoch 850: training loss is 2.38567\n",
      "------------------Testing-------------------\n",
      "Epoch 900:\n",
      "Sample:\n",
      "ground truth: [ 0.07067808  0.25665364  0.48477536  0.50652108  0.65486429  0.76339736\n",
      "  0.8169276   0.87041996]\n",
      "prediction [ 0.07067808  0.25665364  0.48477536  0.50652108  0.65486429  0.76339736\n",
      "  0.87041996  0.87041996]\n",
      "Test loss is 2.41987\n",
      "Test accuracy is 0.40625\n",
      "--------------------Done--------------------\n",
      "Epoch 900: training loss is 1.93987\n",
      "Epoch 950: training loss is 2.95093\n",
      "------------------Testing-------------------\n",
      "Epoch 1000:\n",
      "Sample:\n",
      "ground truth: [ 0.074058    0.19169603  0.25052555  0.26044614  0.3658008   0.59852352\n",
      "  0.9726621   0.97734027]\n",
      "prediction [ 0.074058    0.19169603  0.25052555  0.3658008   0.3658008   0.59852352\n",
      "  0.9726621   0.97734027]\n",
      "Test loss is 2.90748\n",
      "Test accuracy is 0.25\n",
      "--------------------Done--------------------\n",
      "Epoch 1000: training loss is 3.19487\n",
      "Epoch 1050: training loss is 2.26778\n",
      "------------------Testing-------------------\n",
      "Epoch 1100:\n",
      "Sample:\n",
      "ground truth: [ 0.44763399  0.59031761  0.65557164  0.762891    0.79401043  0.8155174\n",
      "  0.84482912  0.89459245]\n",
      "prediction [ 0.44763399  0.59031761  0.65557164  0.762891    0.762891    0.8155174\n",
      "  0.89459245  0.89459245]\n",
      "Test loss is 1.92089\n",
      "Test accuracy is 0.5625\n",
      "--------------------Done--------------------\n",
      "Epoch 1100: training loss is 2.15762\n",
      "Epoch 1150: training loss is 1.69469\n",
      "------------------Testing-------------------\n",
      "Epoch 1200:\n",
      "Sample:\n",
      "ground truth: [ 0.34848609  0.39093113  0.39706334  0.63363976  0.87746474  0.94387249\n",
      "  0.97863239  0.99854559]\n",
      "prediction [ 0.34848609  0.39706334  0.39093113  0.63363976  0.87746474  0.87746474\n",
      "  0.94387249  0.97863239]\n",
      "Test loss is 2.68218\n",
      "Test accuracy is 0.46875\n",
      "--------------------Done--------------------\n",
      "Epoch 1200: training loss is 2.65566\n",
      "Epoch 1250: training loss is 1.90392\n",
      "------------------Testing-------------------\n",
      "Epoch 1300:\n",
      "Sample:\n",
      "ground truth: [ 0.00210386  0.05846282  0.09477262  0.10888165  0.13597039  0.38844859\n",
      "  0.63085783  0.96343959]\n",
      "prediction [ 0.00210386  0.00210386  0.05846282  0.09477262  0.13597039  0.38844859\n",
      "  0.63085783  0.96343959]\n",
      "Test loss is 2.25106\n",
      "Test accuracy is 0.4375\n",
      "--------------------Done--------------------\n",
      "Epoch 1300: training loss is 2.38263\n",
      "Epoch 1350: training loss is 2.34052\n",
      "------------------Testing-------------------\n",
      "Epoch 1400:\n",
      "Sample:\n",
      "ground truth: [ 0.08241021  0.17959013  0.34341376  0.34608378  0.47085876  0.57840095\n",
      "  0.86173989  0.93628652]\n",
      "prediction [ 0.08241021  0.17959013  0.34341376  0.34608378  0.47085876  0.57840095\n",
      "  0.86173989  0.93628652]\n",
      "Test loss is 3.32399\n",
      "Test accuracy is 0.40625\n",
      "--------------------Done--------------------\n",
      "Epoch 1400: training loss is 1.83711\n",
      "Epoch 1450: training loss is 1.70543\n",
      "------------------Testing-------------------\n",
      "Epoch 1500:\n",
      "Sample:\n",
      "ground truth: [ 0.09620824  0.47170133  0.72547591  0.72565385  0.72667741  0.8059542\n",
      "  0.81713142  0.97718225]\n",
      "prediction [ 0.09620824  0.47170133  0.72667741  0.72667741  0.72667741  0.8059542\n",
      "  0.81713142  0.97718225]\n",
      "Test loss is 1.91424\n",
      "Test accuracy is 0.625\n",
      "--------------------Done--------------------\n",
      "Epoch 1500: training loss is 1.76303\n",
      "Epoch 1550: training loss is 1.78339\n",
      "------------------Testing-------------------\n",
      "Epoch 1600:\n",
      "Sample:\n",
      "ground truth: [ 0.0237012   0.07853297  0.30932327  0.39385449  0.66880781  0.72260395\n",
      "  0.74186475  0.84707924]\n",
      "prediction [ 0.0237012   0.07853297  0.30932327  0.39385449  0.66880781  0.72260395\n",
      "  0.74186475  0.84707924]\n",
      "Test loss is 1.66859\n",
      "Test accuracy is 0.59375\n",
      "--------------------Done--------------------\n",
      "Epoch 1600: training loss is 1.469\n",
      "Epoch 1650: training loss is 2.07415\n",
      "------------------Testing-------------------\n",
      "Epoch 1700:\n",
      "Sample:\n",
      "ground truth: [ 0.06307587  0.09251676  0.30131659  0.40115563  0.56287925  0.72252077\n",
      "  0.81809182  0.90028482]\n",
      "prediction [ 0.06307587  0.09251676  0.30131659  0.40115563  0.56287925  0.72252077\n",
      "  0.81809182  0.90028482]\n",
      "Test loss is 1.54626\n",
      "Test accuracy is 0.625\n",
      "--------------------Done--------------------\n",
      "Epoch 1700: training loss is 1.60577\n",
      "Epoch 1750: training loss is 1.70181\n",
      "------------------Testing-------------------\n",
      "Epoch 1800:\n",
      "Sample:\n",
      "ground truth: [ 0.01062507  0.02074112  0.04523445  0.15292474  0.32667974  0.45778798\n",
      "  0.50015232  0.70076205]\n",
      "prediction [ 0.01062507  0.02074112  0.04523445  0.15292474  0.32667974  0.45778798\n",
      "  0.50015232  0.70076205]\n",
      "Test loss is 1.77737\n",
      "Test accuracy is 0.65625\n",
      "--------------------Done--------------------\n",
      "Epoch 1800: training loss is 2.13095\n",
      "Epoch 1850: training loss is 2.35287\n",
      "------------------Testing-------------------\n",
      "Epoch 1900:\n",
      "Sample:\n",
      "ground truth: [ 0.28309073  0.33211692  0.37154006  0.3819897   0.51118717  0.60558297\n",
      "  0.78050369  0.80558358]\n",
      "prediction [ 0.28309073  0.28309073  0.37154006  0.3819897   0.51118717  0.60558297\n",
      "  0.78050369  0.80558358]\n",
      "Test loss is 1.84338\n",
      "Test accuracy is 0.5625\n",
      "--------------------Done--------------------\n",
      "Epoch 1900: training loss is 1.554\n",
      "Epoch 1950: training loss is 1.13834\n",
      "------------------Testing-------------------\n",
      "Epoch 2000:\n",
      "Sample:\n",
      "ground truth: [ 0.05613875  0.21942879  0.22055014  0.44637923  0.56229705  0.72896221\n",
      "  0.73913735  0.95913961]\n",
      "prediction [ 0.05613875  0.05613875  0.21942879  0.44637923  0.56229705  0.72896221\n",
      "  0.73913735  0.95913961]\n",
      "Test loss is 1.60382\n",
      "Test accuracy is 0.53125\n",
      "--------------------Done--------------------\n",
      "Epoch 2000: training loss is 2.04853\n",
      "Epoch 2050: training loss is 2.20091\n",
      "------------------Testing-------------------\n",
      "Epoch 2100:\n",
      "Sample:\n",
      "ground truth: [ 0.11041979  0.312909    0.38088058  0.46433001  0.54526537  0.62285396\n",
      "  0.68706023  0.85295711]\n",
      "prediction [ 0.11041979  0.312909    0.38088058  0.46433001  0.54526537  0.62285396\n",
      "  0.68706023  0.85295711]\n",
      "Test loss is 1.37192\n",
      "Test accuracy is 0.5625\n",
      "--------------------Done--------------------\n",
      "Epoch 2100: training loss is 1.59845\n",
      "Epoch 2150: training loss is 1.57138\n",
      "------------------Testing-------------------\n",
      "Epoch 2200:\n",
      "Sample:\n",
      "ground truth: [ 0.04706004  0.29654544  0.41106338  0.44544932  0.51954388  0.62029918\n",
      "  0.84990911  0.94874784]\n",
      "prediction [ 0.04706004  0.29654544  0.41106338  0.44544932  0.51954388  0.62029918\n",
      "  0.84990911  0.94874784]\n",
      "Test loss is 1.90268\n",
      "Test accuracy is 0.65625\n",
      "--------------------Done--------------------\n",
      "Epoch 2200: training loss is 1.54328\n",
      "Epoch 2250: training loss is 1.1908\n",
      "------------------Testing-------------------\n",
      "Epoch 2300:\n",
      "Sample:\n",
      "ground truth: [ 0.03049705  0.23292226  0.24612362  0.29717664  0.34325806  0.48859949\n",
      "  0.57822704  0.91989027]\n",
      "prediction [ 0.03049705  0.23292226  0.24612362  0.29717664  0.34325806  0.48859949\n",
      "  0.57822704  0.91989027]\n",
      "Test loss is 1.76151\n",
      "Test accuracy is 0.59375\n",
      "--------------------Done--------------------\n",
      "Epoch 2300: training loss is 1.66509\n"
     ]
    }
   ],
   "source": [
    "pointer_net.train(sess, print_every=50)"
   ]
  },
  {
   "cell_type": "code",
   "execution_count": 41,
   "metadata": {
    "collapsed": true
   },
   "outputs": [],
   "source": [
    "import itertools\n",
    "from matplotlib import pyplot as plt\n",
    "%matplotlib inline"
   ]
  },
  {
   "cell_type": "code",
   "execution_count": 27,
   "metadata": {
    "collapsed": true
   },
   "outputs": [],
   "source": [
    "def length(x, y):\n",
    "    return np.linalg.norm(np.asarray(x) - np.asarray(y))"
   ]
  },
  {
   "cell_type": "code",
   "execution_count": 60,
   "metadata": {
    "collapsed": true
   },
   "outputs": [],
   "source": [
    "def solve_tsp_dynamic(points):\n",
    "    # calc all lengths\n",
    "    all_distances = [[length(x, y) for y in points] for x in points]\n",
    "    # initial value - just distance from 0 to every other point + keep the track of edges\n",
    "    A = {(frozenset([0, idx + 1]), idx + 1): (dist, [0, idx + 1]) for idx, dist in enumerate(all_distances[0][1:])}\n",
    "    cnt = len(points)\n",
    "    for m in range(2, cnt):\n",
    "        B = {}\n",
    "        for S in [frozenset(C) | {0} for C in itertools.combinations(range(1, cnt), m)]:\n",
    "            for j in S - {0}:\n",
    "                # this will use 0th index of tuple for ordering, the same as if key=itemgetter(0) used\n",
    "                B[(S, j)] = min([(A[(S - {j}, k)][0] + all_distances[k][j], A[(S - {j}, k)][1] + [j])\n",
    "                                 for k in S if k != 0 and k != j])\n",
    "        A = B\n",
    "    res = min([(A[d][0] + all_distances[0][d[1]], A[d][1]) for d in iter(A)])\n",
    "    rres = res[1]\n",
    "    # rres.append(0)\n",
    "    rres = np.asarray(rres)\n",
    "    return rres"
   ]
  },
  {
   "cell_type": "code",
   "execution_count": 63,
   "metadata": {
    "collapsed": true
   },
   "outputs": [],
   "source": [
    "nodes = np.random.random(size=(5, 2))"
   ]
  },
  {
   "cell_type": "code",
   "execution_count": 64,
   "metadata": {
    "collapsed": false
   },
   "outputs": [
    {
     "name": "stdout",
     "output_type": "stream",
     "text": [
      "[[0.0, 0.25865835743826232, 0.46144456844717519, 0.6995954244319661, 0.77011921536157579], [0.25865835743826232, 0.0, 0.20694693216422411, 0.93006376984076411, 0.81963941593632372], [0.46144456844717519, 0.20694693216422411, 0.0, 1.0995023274576792, 0.86151055829477785], [0.6995954244319661, 0.93006376984076411, 1.0995023274576792, 0.0, 0.70211444752843966], [0.77011921536157579, 0.81963941593632372, 0.86151055829477785, 0.70211444752843966, 0.0]]\n"
     ]
    },
    {
     "data": {
      "text/plain": [
       "array([0, 3, 4, 2, 1])"
      ]
     },
     "execution_count": 64,
     "metadata": {},
     "output_type": "execute_result"
    }
   ],
   "source": [
    "solve_tsp_dynamic(nodes)"
   ]
  },
  {
   "cell_type": "code",
   "execution_count": 59,
   "metadata": {
    "collapsed": false
   },
   "outputs": [
    {
     "data": {
      "text/plain": [
       "<matplotlib.collections.PathCollection at 0x1106b70d0>"
      ]
     },
     "execution_count": 59,
     "metadata": {},
     "output_type": "execute_result"
    },
    {
     "data": {
      "image/png": "[encoded data removed]",
      "text/plain": [
       "<matplotlib.figure.Figure at 0x10f29c3d0>"
      ]
     },
     "metadata": {},
     "output_type": "display_data"
    }
   ],
   "source": [
    "plt.scatter(nodes[:, ::2], nodes[:, 1::2])"
   ]
  },
  {
   "cell_type": "code",
   "execution_count": 11,
   "metadata": {
    "collapsed": false
   },
   "outputs": [
    {
     "data": {
      "text/plain": [
       "'sort'"
      ]
     },
     "execution_count": 11,
     "metadata": {},
     "output_type": "execute_result"
    }
   ],
   "source": [
    "sort.__name__"
   ]
  },
  {
   "cell_type": "code",
   "execution_count": null,
   "metadata": {
    "collapsed": true
   },
   "outputs": [],
   "source": []
  }
 ],
 "metadata": {
  "anaconda-cloud": {},
  "kernelspec": {
   "display_name": "Python [conda env:tensorflow-p3.5]",
   "language": "python",
   "name": "conda-env-tensorflow-p3.5-py"
  },
  "language_info": {
   "codemirror_mode": {
    "name": "ipython",
    "version": 3
   },
   "file_extension": ".py",
   "mimetype": "text/x-python",
   "name": "python",
   "nbconvert_exporter": "python",
   "pygments_lexer": "ipython3",
   "version": "3.5.2"
  }
 },
 "nbformat": 4,
 "nbformat_minor": 0
}
