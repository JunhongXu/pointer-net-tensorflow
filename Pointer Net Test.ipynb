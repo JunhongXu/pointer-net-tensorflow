{
 "cells": [
  {
   "cell_type": "code",
   "execution_count": 1,
   "metadata": {
    "collapsed": true
   },
   "outputs": [],
   "source": [
    "import tensorflow as tf\n",
    "import numpy as np\n",
    "from ptr_decoder import pointer_decoder\n",
    "%load_ext autoreload\n",
    "%autoreload 2"
   ]
  },
  {
   "cell_type": "code",
   "execution_count": 2,
   "metadata": {
    "collapsed": true
   },
   "outputs": [],
   "source": [
    "sess = tf.Session(config=tf.ConfigProto(log_device_placement=True))"
   ]
  },
  {
   "cell_type": "code",
   "execution_count": 3,
   "metadata": {
    "collapsed": false
   },
   "outputs": [],
   "source": [
    "with tf.device(\"/gpu:1\"):\n",
    "    encoder_inputs = [tf.constant(np.array([[0.5, 0.5]]), dtype=tf.float32)] * 4\n",
    "    cell = tf.nn.rnn_cell.BasicLSTMCell(num_units=10, state_is_tuple=True)\n",
    "    encoder_output, final_state = tf.nn.rnn(cell=cell, dtype=tf.float32, inputs=encoder_inputs)\n",
    "    attention_states = [tf.reshape(tensor=e, shape=(-1, 10)) for e in encoder_output]\n",
    "    attention_states = tf.pack(axis=1, values=attention_states)\n",
    "    decoder_inputs = [tf.constant(value=np.array([[0.5, 0.5]]), dtype=tf.float32)] * 4\n",
    "    output = pointer_decoder(cell, decoder_inputs, final_state, attention_states)"
   ]
  },
  {
   "cell_type": "code",
   "execution_count": 4,
   "metadata": {
    "collapsed": true
   },
   "outputs": [],
   "source": [
    "sess.run(tf.initialize_all_variables())"
   ]
  },
  {
   "cell_type": "code",
   "execution_count": 14,
   "metadata": {
    "collapsed": false,
    "scrolled": false
   },
   "outputs": [
    {
     "data": {
      "text/plain": [
       "array([[ 0.24572249,  0.26636925,  0.25572783,  0.23218039]], dtype=float32)"
      ]
     },
     "execution_count": 14,
     "metadata": {},
     "output_type": "execute_result"
    }
   ],
   "source": [
    "sess.run(output[0])"
   ]
  },
  {
   "cell_type": "code",
   "execution_count": 10,
   "metadata": {
    "collapsed": false
   },
   "outputs": [],
   "source": [
    "with tf.device(\"/gpu:1\"):\n",
    "    tf.get_variable_scope().reuse_variables()\n",
    "    test = pointer_decoder(cell, decoder_inputs, attention_states=attention_states, \n",
    "                           encoder_inputs=encoder_inputs, feed_prev=True, initial_state=final_state)\n",
    "    "
   ]
  },
  {
   "cell_type": "code",
   "execution_count": 13,
   "metadata": {
    "collapsed": false
   },
   "outputs": [
    {
     "data": {
      "text/plain": [
       "array([[ 0.24572249,  0.26636925,  0.25572783,  0.23218039]], dtype=float32)"
      ]
     },
     "execution_count": 13,
     "metadata": {},
     "output_type": "execute_result"
    }
   ],
   "source": [
    "sess.run(test[0])"
   ]
  },
  {
   "cell_type": "code",
   "execution_count": null,
   "metadata": {
    "collapsed": true
   },
   "outputs": [],
   "source": []
  }
 ],
 "metadata": {
  "anaconda-cloud": {},
  "kernelspec": {
   "display_name": "Python [default]",
   "language": "python",
   "name": "python2"
  },
  "language_info": {
   "codemirror_mode": {
    "name": "ipython",
    "version": 2
   },
   "file_extension": ".py",
   "mimetype": "text/x-python",
   "name": "python",
   "nbconvert_exporter": "python",
   "pygments_lexer": "ipython2",
   "version": "2.7.12"
  }
 },
 "nbformat": 4,
 "nbformat_minor": 0
}
